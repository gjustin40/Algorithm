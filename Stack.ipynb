{
 "cells": [
  {
   "cell_type": "markdown",
   "metadata": {},
   "source": [
    "# Stack\n",
    "- Last in, First Out"
   ]
  },
  {
   "cell_type": "code",
   "execution_count": 10,
   "metadata": {},
   "outputs": [],
   "source": [
    "class Stack:\n",
    "    \n",
    "    def __init__(self):\n",
    "        self.stack_list = list()\n",
    "        \n",
    "    def push(self, data):\n",
    "        self.stack_list.append(data)\n",
    "        \n",
    "        return self.stack_list\n",
    "    \n",
    "    def pop(self):\n",
    "        \n",
    "        if len(self.stack_list) == 0:\n",
    "            \n",
    "            return 'No data'\n",
    "        \n",
    "        else:\n",
    "            \n",
    "            data = self.stack_list[-1]\n",
    "            print('Before : ', self.stack_list)\n",
    "            \n",
    "            del self.stack_list[-1]\n",
    "            \n",
    "            print('Out : ', data)\n",
    "            print('After : ', self.stack_list)\n",
    "            return data\n"
   ]
  },
  {
   "cell_type": "code",
   "execution_count": 11,
   "metadata": {},
   "outputs": [
    {
     "data": {
      "text/plain": [
       "[0, 1, 2, 3, 4, 5, 6, 7, 8, 9]"
      ]
     },
     "execution_count": 11,
     "metadata": {},
     "output_type": "execute_result"
    }
   ],
   "source": [
    "s = Stack()\n",
    "\n",
    "for i in range(10):\n",
    "    s.push(i)\n",
    "    \n",
    "s.stack_list"
   ]
  },
  {
   "cell_type": "code",
   "execution_count": 12,
   "metadata": {},
   "outputs": [
    {
     "name": "stdout",
     "output_type": "stream",
     "text": [
      "Before :  [0, 1, 2, 3, 4, 5, 6, 7, 8, 9]\n",
      "Out :  9\n",
      "After :  [0, 1, 2, 3, 4, 5, 6, 7, 8]\n"
     ]
    },
    {
     "data": {
      "text/plain": [
       "9"
      ]
     },
     "execution_count": 12,
     "metadata": {},
     "output_type": "execute_result"
    }
   ],
   "source": [
    "s.pop()"
   ]
  }
 ],
 "metadata": {
  "kernelspec": {
   "display_name": "Python 3",
   "language": "python",
   "name": "python3"
  },
  "language_info": {
   "codemirror_mode": {
    "name": "ipython",
    "version": 3
   },
   "file_extension": ".py",
   "mimetype": "text/x-python",
   "name": "python",
   "nbconvert_exporter": "python",
   "pygments_lexer": "ipython3",
   "version": "3.8.5"
  }
 },
 "nbformat": 4,
 "nbformat_minor": 4
}
