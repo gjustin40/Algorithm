{
 "cells": [
  {
   "cell_type": "markdown",
   "metadata": {},
   "source": []
  },
  {
   "cell_type": "code",
   "execution_count": null,
   "metadata": {},
   "outputs": [],
   "source": [
    "N = int(input())\n",
    "\n",
    "dp = [0, 1, 1, 3]\n",
    "\n",
    "for i in range(4, N+1):\n",
    "    dp.append(dp[i-1]+1)\n",
    "    \n",
    "    if dp[i] % 2 == 0:\n",
    "        dp[i] = min(dp[i], dp[i//2]+1)\n",
    "        \n",
    "    if dp[i] % 3 == 0:\n",
    "        dp[i] = min(dp[i], dp[N//3]+1)\n",
    "        \n",
    "print(dp[N])"
   ]
  },
  {
   "cell_type": "code",
   "execution_count": 8,
   "metadata": {},
   "outputs": [
    {
     "name": "stdout",
     "output_type": "stream",
     "text": [
      "10\n",
      "177\n"
     ]
    }
   ],
   "source": [
    "N = int(input())\n",
    "\n",
    "dp = [0,1,3,5]\n",
    "\n",
    "for i in range(4,N+1):\n",
    "    dp.append(i)\n",
    "    dp[i] = dp[i-2] + dp[i-1] + 1\n",
    "    \n",
    "print(dp[N])"
   ]
  },
  {
   "cell_type": "code",
   "execution_count": 6,
   "metadata": {},
   "outputs": [
    {
     "data": {
      "text/plain": [
       "[0, 1, 3, 5, 9, 15, 25, 41, 67]"
      ]
     },
     "execution_count": 6,
     "metadata": {},
     "output_type": "execute_result"
    }
   ],
   "source": [
    "dp"
   ]
  }
 ],
 "metadata": {
  "kernelspec": {
   "display_name": "Python 3",
   "language": "python",
   "name": "python3"
  },
  "language_info": {
   "codemirror_mode": {
    "name": "ipython",
    "version": 3
   },
   "file_extension": ".py",
   "mimetype": "text/x-python",
   "name": "python",
   "nbconvert_exporter": "python",
   "pygments_lexer": "ipython3",
   "version": "3.8.5"
  }
 },
 "nbformat": 4,
 "nbformat_minor": 4
}
