{
 "cells": [
  {
   "cell_type": "markdown",
   "metadata": {},
   "source": [
    "# Hash Table\n",
    "- 키(key)에 데이터(Value)를 저장하는 데이터 구조\n",
    "- Python에 Dict형과 동일한 자료형"
   ]
  },
  {
   "cell_type": "code",
   "execution_count": 1,
   "metadata": {},
   "outputs": [
    {
     "data": {
      "text/plain": [
       "[0, 0, 0, 0, 0, 0, 0, 0, 0, 0]"
      ]
     },
     "execution_count": 1,
     "metadata": {},
     "output_type": "execute_result"
    }
   ],
   "source": [
    "hash_table = list([0 for i in range(10)])\n",
    "hash_table"
   ]
  },
  {
   "cell_type": "code",
   "execution_count": 2,
   "metadata": {},
   "outputs": [
    {
     "data": {
      "text/plain": [
       "3"
      ]
     },
     "execution_count": 2,
     "metadata": {},
     "output_type": "execute_result"
    }
   ],
   "source": [
    "def hash_func(key):\n",
    "    return key % 5\n",
    "\n",
    "hash_func(8)"
   ]
  },
  {
   "cell_type": "code",
   "execution_count": 6,
   "metadata": {},
   "outputs": [
    {
     "name": "stdout",
     "output_type": "stream",
     "text": [
      "Andy 65\n",
      "Dave 68\n",
      "Trump 84\n"
     ]
    }
   ],
   "source": [
    "data1 = 'Andy'\n",
    "data2 = 'Dave'\n",
    "data3 = 'Trump'\n",
    "\n",
    "print(data1, ord(data1[0]))\n",
    "print(data2, ord(data2[0]))\n",
    "print(data3, ord(data3[0]))"
   ]
  },
  {
   "cell_type": "code",
   "execution_count": 12,
   "metadata": {},
   "outputs": [
    {
     "data": {
      "text/plain": [
       "'01055553333'"
      ]
     },
     "execution_count": 12,
     "metadata": {},
     "output_type": "execute_result"
    }
   ],
   "source": [
    "def save_data(data, value):\n",
    "    key = ord(data[0])\n",
    "    hash_address = hash_func(key)\n",
    "    hash_table[hash_address] = value\n",
    "    \n",
    "save_data('Andy', '01055553333')\n",
    "save_data('Dave', '01055553333')\n",
    "save_data('Trump', '01055553333')\n",
    "\n",
    "def get_data(data):\n",
    "    key = ord(data[0])\n",
    "    hash_address = hash_func(key)\n",
    "    \n",
    "    return hash_table[hash_address]\n",
    "\n",
    "get_data('Andy')"
   ]
  },
  {
   "cell_type": "markdown",
   "metadata": {},
   "source": [
    "## 예시\n",
    "1. 해쉬 함수 : key % 8\n",
    "2. 해쉬 키 생성 : hash(data)"
   ]
  },
  {
   "cell_type": "code",
   "execution_count": 20,
   "metadata": {},
   "outputs": [
    {
     "name": "stdout",
     "output_type": "stream",
     "text": [
      "01055553333\n",
      "[0, '01055553333', 0, 0, 0, '01055553333', 0, '01055553333']\n"
     ]
    }
   ],
   "source": [
    "hash_table = list([0 for i in range(8)])\n",
    "\n",
    "def get_key(data):\n",
    "    return hash(data)\n",
    "\n",
    "def hash_function(key):\n",
    "    return key % 8\n",
    "\n",
    "def save_data(data, value):\n",
    "    key = get_key(data)\n",
    "    hash_address = hash_function(key)\n",
    "    hash_table[hash_address] = value\n",
    "    \n",
    "def read_data(data):\n",
    "    hash_address = hash_function(get_key(data))\n",
    "    return hash_table[hash_address]\n",
    "\n",
    "save_data('Andy', '01055553333')\n",
    "save_data('Dave', '01055553333')\n",
    "save_data('Trump', '01055553333')\n",
    "\n",
    "print(read_data('Dave'))\n",
    "print(hash_table)"
   ]
  },
  {
   "cell_type": "markdown",
   "metadata": {},
   "source": [
    "## 충돌(collision) 해결 알고리즘\n",
    "- 2개 이상의 데이터가 같은 hash address에 저장되어야 하는 경우\n",
    " 1. Chaining 기법(개방 해슁, open Hashing)\n",
    "   - Hash Table 밖에 별도의 데이터 공간을 만들어서 추가\n",
    " 2. Linear Probling 기법(폐쇄 해슁, close Hashing)\n",
    "   - 다음 address에 데이터를 추가"
   ]
  }
 ],
 "metadata": {
  "kernelspec": {
   "display_name": "Python 3",
   "language": "python",
   "name": "python3"
  },
  "language_info": {
   "codemirror_mode": {
    "name": "ipython",
    "version": 3
   },
   "file_extension": ".py",
   "mimetype": "text/x-python",
   "name": "python",
   "nbconvert_exporter": "python",
   "pygments_lexer": "ipython3",
   "version": "3.8.5"
  }
 },
 "nbformat": 4,
 "nbformat_minor": 4
}
