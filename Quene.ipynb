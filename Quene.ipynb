{
 "cells": [
  {
   "cell_type": "markdown",
   "metadata": {},
   "source": [
    "# Quene\n",
    "- First In, First Out"
   ]
  },
  {
   "cell_type": "code",
   "execution_count": 50,
   "metadata": {},
   "outputs": [],
   "source": [
    "class quene:\n",
    "    def __init__(self):\n",
    "        self.quene_list = list()\n",
    "        \n",
    "    def enquene(self, data):\n",
    "        self.quene_list.append(data)\n",
    "        \n",
    "        return self.quene_list\n",
    "    \n",
    "    def dequene(self):\n",
    "        \n",
    "        if len(self.quene_list) == 0:\n",
    "            return 'No data'\n",
    "        \n",
    "        else:\n",
    "            data = self.quene_list[0]\n",
    "            print('Before : ', self.quene_list)\n",
    "\n",
    "            del self.quene_list[0]\n",
    "\n",
    "            print('Out : ', data)\n",
    "            print('After : ', self.quene_list)\n",
    "            \n",
    "            return data"
   ]
  },
  {
   "cell_type": "code",
   "execution_count": 62,
   "metadata": {},
   "outputs": [
    {
     "data": {
      "text/plain": [
       "[0, 1, 2, 3, 4, 5, 6, 7, 8, 9]"
      ]
     },
     "execution_count": 62,
     "metadata": {},
     "output_type": "execute_result"
    }
   ],
   "source": [
    "q = quene()\n",
    "\n",
    "for i in range(10):\n",
    "    q.enquene(i)\n",
    "\n",
    "q.quene_list"
   ]
  },
  {
   "cell_type": "code",
   "execution_count": 63,
   "metadata": {},
   "outputs": [
    {
     "name": "stdout",
     "output_type": "stream",
     "text": [
      "Before :  [0, 1, 2, 3, 4, 5, 6, 7, 8, 9]\n",
      "Out :  0\n",
      "After :  [1, 2, 3, 4, 5, 6, 7, 8, 9]\n"
     ]
    },
    {
     "data": {
      "text/plain": [
       "0"
      ]
     },
     "execution_count": 63,
     "metadata": {},
     "output_type": "execute_result"
    }
   ],
   "source": [
    "q.dequene()"
   ]
  }
 ],
 "metadata": {
  "kernelspec": {
   "display_name": "Python 3",
   "language": "python",
   "name": "python3"
  },
  "language_info": {
   "codemirror_mode": {
    "name": "ipython",
    "version": 3
   },
   "file_extension": ".py",
   "mimetype": "text/x-python",
   "name": "python",
   "nbconvert_exporter": "python",
   "pygments_lexer": "ipython3",
   "version": "3.8.5"
  }
 },
 "nbformat": 4,
 "nbformat_minor": 4
}
