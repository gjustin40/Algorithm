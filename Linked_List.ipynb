{
 "cells": [
  {
   "cell_type": "markdown",
   "metadata": {},
   "source": [
    "# Linked List\n",
    "- List와 비슷하게 동작하지만, 요소(element)와 다음 요소의 주소(pointer)를 가지고 있는 구조 \n",
    "- 노드(데이터, 포인터값)과 포인터"
   ]
  },
  {
   "cell_type": "code",
   "execution_count": 1,
   "metadata": {
    "scrolled": true
   },
   "outputs": [],
   "source": [
    "class Node:\n",
    "    \n",
    "    def __init__(self, data, pointer=None):\n",
    "        self.data = data\n",
    "        self.pointer = pointer\n",
    "        \n",
    "def add(data):\n",
    "    node = head\n",
    "    \n",
    "    while node.pointer:\n",
    "        node = node.pointer\n",
    "        \n",
    "    node.pointer = Node(data)\n",
    "    \n",
    "    return 'Finish'"
   ]
  },
  {
   "cell_type": "code",
   "execution_count": 4,
   "metadata": {
    "scrolled": true
   },
   "outputs": [],
   "source": [
    "n1 = Node(1)\n",
    "head = n1\n",
    "\n",
    "for i in range(2,10):\n",
    "    add(i)"
   ]
  },
  {
   "cell_type": "code",
   "execution_count": 6,
   "metadata": {
    "scrolled": true
   },
   "outputs": [
    {
     "name": "stdout",
     "output_type": "stream",
     "text": [
      "1\n",
      "2\n",
      "3\n",
      "4\n",
      "5\n",
      "6\n",
      "7\n",
      "8\n",
      "9\n"
     ]
    }
   ],
   "source": [
    "head = n1\n",
    "\n",
    "while head.pointer:\n",
    "    print(head.data)\n",
    "    \n",
    "    head = head.pointer\n",
    "    \n",
    "print(head.data)   \n",
    "    "
   ]
  },
  {
   "cell_type": "markdown",
   "metadata": {},
   "source": [
    "## Linked List 기능 통합\n",
    "- 추가\n",
    "- 삭제\n",
    "- 수정"
   ]
  },
  {
   "cell_type": "code",
   "execution_count": 11,
   "metadata": {
    "scrolled": true
   },
   "outputs": [],
   "source": [
    "class Node:\n",
    "    def __init__(self, data, pointer=None):\n",
    "        self.data = data\n",
    "        self.pointer = pointer\n",
    "    \n",
    "class NodeMgmt:\n",
    "    def __init__(self, data):\n",
    "        self.head = Node(data)\n",
    "    \n",
    "    def add(self, data):\n",
    "        if not self.head:\n",
    "            self.head = Node(data)\n",
    "            \n",
    "        else:\n",
    "            node = self.head\n",
    "            \n",
    "            while node.pointer:\n",
    "                node = node.pointer\n",
    "                \n",
    "            node.pointer = Node(data)\n",
    "        \n",
    "    def delete(self, data):\n",
    "        # 1. head 삭제\n",
    "        # 2. tail 삭제\n",
    "        # 3. 중간 삭제\n",
    "        \n",
    "        if not self.head:\n",
    "            print('데이터가 없습니다.')\n",
    "            \n",
    "            return\n",
    "        \n",
    "        else:\n",
    "            if self.head.data == data:\n",
    "                temp = self.head\n",
    "                self.head = self.head.poniter\n",
    "                del temp\n",
    "                \n",
    "            else:\n",
    "                node = self.head\n",
    "                \n",
    "                while node.pointer:\n",
    "                    if node.pointer.data == data:\n",
    "                        temp = node.pointer\n",
    "                        node.pointer = node.pointer.pointer\n",
    "                        del temp\n",
    "                        \n",
    "                    else:\n",
    "                        node = node.pointer                    \n",
    "        \n",
    "    def desc(self):\n",
    "        node = self.head\n",
    "        \n",
    "        while node:\n",
    "            print(node.data)\n",
    "            node = node.pointer"
   ]
  },
  {
   "cell_type": "code",
   "execution_count": 12,
   "metadata": {
    "scrolled": true
   },
   "outputs": [
    {
     "name": "stdout",
     "output_type": "stream",
     "text": [
      "0\n",
      "1\n",
      "2\n",
      "3\n",
      "4\n",
      "5\n",
      "6\n",
      "7\n",
      "8\n",
      "9\n"
     ]
    }
   ],
   "source": [
    "linklist1 = NodeMgmt(0)\n",
    "\n",
    "for i in range(1,10):\n",
    "    linklist1.add(i)\n",
    "    \n",
    "linklist1.desc()"
   ]
  },
  {
   "cell_type": "markdown",
   "metadata": {},
   "source": [
    "# 연습"
   ]
  },
  {
   "cell_type": "code",
   "execution_count": 13,
   "metadata": {},
   "outputs": [],
   "source": [
    "class Node:\n",
    "    def __init__(self, data, prev=None, next=None):\n",
    "        self.data = data\n",
    "        self.prev = prev\n",
    "        self.next = next\n",
    "        \n",
    "class NodeMgmt:\n",
    "    def __init__(self, data):\n",
    "        self.head = Node(data)\n",
    "        \n",
    "    def insert(self, data):\n",
    "        if self.head == None:\n",
    "            self.head = Node(data)\n",
    "         \n",
    "        else:\n",
    "            node = self.head\n",
    "            while node.next:\n",
    "                node = node.next\n",
    "                \n",
    "            new = Node(data)\n",
    "            node.next = new\n",
    "    \n",
    "    def \n",
    "    def desc(self):\n",
    "        node = self.head\n",
    "        while node:\n",
    "            print(node.data)\n",
    "            node = node.next"
   ]
  },
  {
   "cell_type": "code",
   "execution_count": 15,
   "metadata": {},
   "outputs": [
    {
     "name": "stdout",
     "output_type": "stream",
     "text": [
      "0\n",
      "1\n",
      "2\n",
      "3\n",
      "4\n",
      "5\n",
      "6\n",
      "7\n",
      "8\n",
      "9\n"
     ]
    }
   ],
   "source": [
    "linklist1 = NodeMgmt(0)\n",
    "\n",
    "for i in range(1, 10):\n",
    "    linklist1.insert(i)\n",
    "    \n",
    "linklist1.desc()"
   ]
  },
  {
   "cell_type": "code",
   "execution_count": 9,
   "metadata": {},
   "outputs": [],
   "source": [
    "data = Node(0)"
   ]
  }
 ],
 "metadata": {
  "kernelspec": {
   "display_name": "Python 3",
   "language": "python",
   "name": "python3"
  },
  "language_info": {
   "codemirror_mode": {
    "name": "ipython",
    "version": 3
   },
   "file_extension": ".py",
   "mimetype": "text/x-python",
   "name": "python",
   "nbconvert_exporter": "python",
   "pygments_lexer": "ipython3",
   "version": "3.8.5"
  }
 },
 "nbformat": 4,
 "nbformat_minor": 4
}
